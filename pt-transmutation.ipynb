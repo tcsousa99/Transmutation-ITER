{
 "cells": [
  {
   "cell_type": "markdown",
   "metadata": {},
   "source": [
    "## Calculation of transmutation rates expected for different elements. This is a rough estimate but can be used as a first indication.\n",
    "### Step-by-step\n",
    "\n",
    "1. Obtain the cross-sections plot of interest for the element in study, normally those that are bigger impact are (n,$\\alpha$) and (n,p) for 14.1 MeV neutrons and (n, $\\gamma$) for thermal neutrons.\n",
    "2. Multiply these cross-section plots with the one with neutron flux at the wall to obtain other two plots that show the **number of reactions by those processes**. This is, one for (n,$\\alpha$), one for (n,p) and one for (n, $\\gamma$).\n",
    "3. Knowing the full surface area of the first wall and the thickness of the expected layer calculate the **number of reactions** during a full power year (~9.125 days) and for 20fpy (the full expected duration of ITER operation).\n",
    "4. Calculate the **percentual loss of material** during the full power year and 20fpy."
   ]
  },
  {
   "cell_type": "code",
   "execution_count": 187,
   "metadata": {},
   "outputs": [],
   "source": [
    "import numpy as np\n",
    "import pandas as pd\n",
    "from scipy.interpolate import interp1d\n",
    "import os\n",
    "import matplotlib.pyplot as plt"
   ]
  },
  {
   "cell_type": "code",
   "execution_count": 188,
   "metadata": {},
   "outputs": [
    {
     "name": "stdout",
     "output_type": "stream",
     "text": [
      "For X = 1000000.0, interpolated Y = 2.86e+13\n"
     ]
    }
   ],
   "source": [
    "#Read neutron flux at ITER wall\n",
    "neutron_flux = pd.read_csv('neutron_energy_spectrum.csv', names=['Neutron energy (eV)', 'Neutron flux (n cm-2 s-1)'], \n",
    "dtype={'Neutron energy (eV)': float, 'Neutron flux (n cm-2 s-1)': float}).to_numpy()\n",
    "\n",
    "neutron_flux_function = interp1d(neutron_flux[:,0], neutron_flux[:,1], kind='linear', fill_value=\"extrapolate\")\n",
    "new_X = 1e6\n",
    "new_Y = interpolated_function(new_X)\n",
    "formatted_Y = \"{:.2e}\".format(new_Y)\n",
    "print(f\"For X = {new_X}, interpolated Y = {formatted_Y}\")"
   ]
  },
  {
   "cell_type": "markdown",
   "metadata": {},
   "source": [
    "### Elemental information\n",
    "\n",
    "This should display the abudance if the element has isotopes and read the files of the cross section of the reactions with neutrons"
   ]
  },
  {
   "cell_type": "code",
   "execution_count": 189,
   "metadata": {},
   "outputs": [],
   "source": [
    "Pt194_abundance=0.3286\n",
    "Pt195_abundance=0.3378\n",
    "Pt196_abundance=0.2521\n",
    "\n",
    "Pt194_A = 193.96268 #g/mol\n",
    "Pt195_A = 194.96477 #g/mol\n",
    "Pt196_A = 195.96495 #g/mol\n",
    "\n",
    "rho_Pt = 21.45 #g/cm^3\n",
    "N_A = 6.022e23 #atoms/mol\n",
    "\n",
    "avg_A = Pt194_abundance*Pt194_A + Pt195_abundance*Pt195_A + Pt196_abundance*Pt196_A\n",
    "N_target = (rho_Pt * N_A)/avg_A\n",
    "\n",
    "PtFolder = ['Pt194', 'Pt195', 'Pt196']\n",
    "PtArrays = []"
   ]
  },
  {
   "cell_type": "code",
   "execution_count": 190,
   "metadata": {},
   "outputs": [],
   "source": [
    "for folder in PtFolder:\n",
    "    folder_data = []\n",
    "    for filename in os.listdir(folder):\n",
    "        if filename.endswith(\".csv\"):\n",
    "            file_path = os.path.join(folder, filename)\n",
    "            # Use pandas to read the CSV file into a DataFrame\n",
    "            df = pd.read_csv(file_path, skiprows=3, sep=';', names=['Incident energy (eV)', 'Cross-section (b)'], \n",
    "            dtype={'Incident energy (eV)': float, 'Cross-section (b)': float})\n",
    "\n",
    "            # Convert the cross-section values from barns to cm²\n",
    "            df['Cross-section (b)'] *= 1e-24\n",
    "            \n",
    "            # Convert the DataFrame to a numpy array\n",
    "            data_array = df.to_numpy()\n",
    "            folder_data.append(data_array)\n",
    "    PtArrays.append(folder_data)"
   ]
  },
  {
   "cell_type": "code",
   "execution_count": 191,
   "metadata": {},
   "outputs": [],
   "source": [
    "#First position is of each one of these arrays is (n,$\\alpha$), second (n,$\\gamma$) and third (n,p)\n",
    "Pt194_CS = (PtArrays[0][0], PtArrays[0][1], PtArrays[0][2])\n",
    "Pt195_CS = (PtArrays[1][0], PtArrays[1][1], PtArrays[1][2])\n",
    "Pt196_CS = (PtArrays[2][0], PtArrays[2][1], PtArrays[2][2])"
   ]
  },
  {
   "cell_type": "code",
   "execution_count": 192,
   "metadata": {},
   "outputs": [],
   "source": [
    "#Cross sections for each reaction\n",
    "Pt194_alpha = Pt194_CS[0]\n",
    "Pt194_gamma = Pt194_CS[1]\n",
    "Pt194_p = Pt194_CS[2]\n",
    "\n",
    "Pt195_alpha = Pt195_CS[0]\n",
    "Pt195_gamma = Pt195_CS[1]\n",
    "Pt195_p = Pt195_CS[2]\n",
    "\n",
    "Pt196_alpha = Pt196_CS[0]\n",
    "Pt196_gamma = Pt196_CS[1]\n",
    "Pt196_p = Pt196_CS[2]\n",
    "\n",
    "\n",
    "TENHO DE APAGAR ISTO E COLOCAR EM LISTAS! DEPOIS POSSO ITERAR REACAO A REACAO"
   ]
  },
  {
   "cell_type": "markdown",
   "metadata": {},
   "source": [
    "### ITER parameters"
   ]
  },
  {
   "cell_type": "code",
   "execution_count": 193,
   "metadata": {},
   "outputs": [],
   "source": [
    "first_wall_area = 6.5e6 #in cm^2\n",
    "thickness1 = 1 #in cm\n",
    "thickness2 = 1e-4 #in cm\n",
    "fpy = 788400 #in seconds\n",
    "fpy_full = fpy*20 #in seconds"
   ]
  },
  {
   "cell_type": "markdown",
   "metadata": {},
   "source": [
    "### Transmutation reaction rate\n",
    "\n",
    "To calculate the transmutation reaction rate one needs to know the number of nuclei per cm^3, the neutron flux and cross-section of the transmutation reaction, so that:\n",
    "\n",
    "$R[cm^{-3} s^{-1}] = N[cm^{-3}] \\times \\sigma[cm^2] \\times \\Phi[cm^{-2} s^{-1}]$\n",
    "\n",
    "With this, multiplying by the total volume of the first wall layer, whether that'd be a coating or bulk, we obtain the number of reactions per second. Then, multiplying by the fpy in seconds, one can calculate the number of transmutation reactions per full power year. Assuming a wall made of 100% of the material of study, we can compare the number of new transmutated atoms with the number of original atoms and compare how many of the original atoms transmutated."
   ]
  },
  {
   "cell_type": "code",
   "execution_count": 194,
   "metadata": {},
   "outputs": [
    {
     "data": {
      "text/plain": [
       "array([-2.24250034e+19, -2.17551487e+19, -2.11419190e+19, ...,\n",
       "       -5.65729283e+24, -5.67430993e+24, -5.69045860e+24])"
      ]
     },
     "execution_count": 194,
     "metadata": {},
     "output_type": "execute_result"
    }
   ],
   "source": [
    "Pt194_alpha[:,1]*neutron_flux_function(Pt194_alpha[:,0])*N_target*first_wall_area*thickness1*fpy"
   ]
  }
 ],
 "metadata": {
  "kernelspec": {
   "display_name": "base",
   "language": "python",
   "name": "python3"
  },
  "language_info": {
   "codemirror_mode": {
    "name": "ipython",
    "version": 3
   },
   "file_extension": ".py",
   "mimetype": "text/x-python",
   "name": "python",
   "nbconvert_exporter": "python",
   "pygments_lexer": "ipython3",
   "version": "3.11.4"
  }
 },
 "nbformat": 4,
 "nbformat_minor": 2
}
