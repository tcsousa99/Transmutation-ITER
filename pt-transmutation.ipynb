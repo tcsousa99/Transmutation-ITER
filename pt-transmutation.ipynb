{
 "cells": [
  {
   "cell_type": "markdown",
   "metadata": {},
   "source": [
    "## Calculation of transmutation rates expected for different elements. This is a rough estimate but can be used as a first indication.\n",
    "### Step-by-step\n",
    "\n",
    "1. Obtain the cross-sections plot of interest for the element in study, normally those that are bigger impact are (n,$\\alpha$) and (n,p) for 14.1 MeV neutrons and (n, $\\gamma$) for thermal neutrons.\n",
    "2. Multiply these cross-section plots with the one with neutron flux at the wall to obtain other two plots that show the **number of reactions by those processes**. This is, one for (n,$\\alpha$), one for (n,p) and one for (n, $\\gamma$).\n",
    "3. Knowing the full surface area of the first wall and the thickness of the expected layer calculate the **number of reactions** during a full power year (~9.125 days) and for 20fpy (the full expected duration of ITER operation).\n",
    "4. Calculate the **percentual loss of material** during the full power year and 20fpy."
   ]
  },
  {
   "cell_type": "code",
   "execution_count": 1529,
   "metadata": {},
   "outputs": [],
   "source": [
    "import numpy as np\n",
    "import pandas as pd\n",
    "from scipy.interpolate import interp1d\n",
    "import os\n",
    "import matplotlib.pyplot as plt\n",
    "from scipy.integrate import odeint"
   ]
  },
  {
   "cell_type": "code",
   "execution_count": 1530,
   "metadata": {},
   "outputs": [],
   "source": [
    "#Read neutron flux at ITER wall\n",
    "neutron_flux = pd.read_csv('neutron_energy_spectrum.csv', names=['Neutron energy (eV)', 'Neutron flux (n cm-2 s-1)'], \n",
    "dtype={'Neutron energy (eV)': float, 'Neutron flux (n cm-2 s-1)': float}).to_numpy()\n",
    "\n",
    "neutron_flux_function = interp1d(neutron_flux[:,0], neutron_flux[:,1], kind='linear', fill_value=0, bounds_error=False)\n"
   ]
  },
  {
   "cell_type": "code",
   "execution_count": 1531,
   "metadata": {},
   "outputs": [
    {
     "data": {
      "text/plain": [
       "array(0.)"
      ]
     },
     "execution_count": 1531,
     "metadata": {},
     "output_type": "execute_result"
    }
   ],
   "source": [
    "neutron_flux_function(1e-5)"
   ]
  },
  {
   "cell_type": "markdown",
   "metadata": {},
   "source": [
    "### Elemental information\n",
    "\n",
    "This should display the abudance if the element has isotopes and read the files of the cross section of the reactions with neutrons"
   ]
  },
  {
   "cell_type": "code",
   "execution_count": 1532,
   "metadata": {},
   "outputs": [],
   "source": [
    "N_A = 6.022e23 #atoms/mol"
   ]
  },
  {
   "cell_type": "markdown",
   "metadata": {},
   "source": [
    "# Rhodium"
   ]
  },
  {
   "cell_type": "code",
   "execution_count": 1533,
   "metadata": {},
   "outputs": [],
   "source": [
    "Rh103_A = 102.9055 #g/mol\n",
    "rho_Rh = 12.41 #g/cm^3\n",
    "\n",
    "N_target_Rh = (rho_Rh * N_A)/Rh103_A\n",
    "\n",
    "RhFolder = ['Rh103']\n",
    "RhArrays = []"
   ]
  },
  {
   "cell_type": "code",
   "execution_count": 1534,
   "metadata": {},
   "outputs": [],
   "source": [
    "for folder in RhFolder:\n",
    "    folder_data = []\n",
    "    for filename in os.listdir(folder):\n",
    "        if filename.endswith(\".csv\") and filename.startswith('Rh'):\n",
    "            file_path = os.path.join(folder, filename)\n",
    "            # Use pandas to read the CSV file into a DataFrame\n",
    "            df = pd.read_csv(file_path, skiprows=3, sep=';', names=['Incident energy (eV)', 'Cross-section (b)'], \n",
    "            dtype={'Incident energy (eV)': float, 'Cross-section (b)': float})\n",
    "\n",
    "            # Convert the cross-section values from barns to cm²\n",
    "            df['Cross-section (b)'] *= 1e-24\n",
    "            \n",
    "            # Convert the DataFrame to a numpy array\n",
    "            data_array = df.to_numpy()\n",
    "            folder_data.append(data_array)\n",
    "    RhArrays.append(folder_data)"
   ]
  },
  {
   "cell_type": "code",
   "execution_count": 1535,
   "metadata": {},
   "outputs": [],
   "source": [
    "Rh103_CS = (RhArrays[0][0], RhArrays[0][1], RhArrays[0][2], RhArrays[0][3], RhArrays[0][4])\n"
   ]
  },
  {
   "cell_type": "markdown",
   "metadata": {},
   "source": [
    "# Platinum"
   ]
  },
  {
   "cell_type": "code",
   "execution_count": 1536,
   "metadata": {},
   "outputs": [],
   "source": [
    "Pt194_abundance=0.3286\n",
    "Pt195_abundance=0.3378\n",
    "Pt196_abundance=0.2521\n",
    "Pt198_abundance=0.0736\n",
    "\n",
    "Pt194_A = 193.96268 #g/mol\n",
    "Pt195_A = 194.96477 #g/mol\n",
    "Pt196_A = 195.96495 #g/mol\n",
    "Pt198_A = 197.96\n",
    "\n",
    "rho_Pt = 21.45 #g/cm^3\n",
    "\n",
    "\n",
    "\n",
    "avg_A = Pt194_abundance*Pt194_A + Pt195_abundance*Pt195_A + Pt196_abundance*Pt196_A\n",
    "N_target_Pt = (rho_Pt * N_A)/avg_A\n",
    "\n",
    "PtFolder = ['Pt194', 'Pt195', 'Pt196','Pt197','Pt198']\n",
    "PtArrays = []"
   ]
  },
  {
   "cell_type": "code",
   "execution_count": 1537,
   "metadata": {},
   "outputs": [],
   "source": [
    "for folder in PtFolder:\n",
    "    folder_data = []\n",
    "    for filename in os.listdir(folder):\n",
    "        if filename.endswith(\".csv\") and filename.startswith('Pt'):\n",
    "            file_path = os.path.join(folder, filename)\n",
    "            # Use pandas to read the CSV file into a DataFrame\n",
    "            df = pd.read_csv(file_path, skiprows=3, sep=';', names=['Incident energy (eV)', 'Cross-section (b)'], \n",
    "            dtype={'Incident energy (eV)': float, 'Cross-section (b)': float})\n",
    "\n",
    "            # Convert the cross-section values from barns to cm²\n",
    "            df['Cross-section (b)'] *= 1e-24\n",
    "            \n",
    "            # Convert the DataFrame to a numpy array\n",
    "            data_array = df.to_numpy()\n",
    "            folder_data.append(data_array)\n",
    "    PtArrays.append(folder_data)"
   ]
  },
  {
   "cell_type": "code",
   "execution_count": 1538,
   "metadata": {},
   "outputs": [],
   "source": [
    "#First position is of each one of these arrays is (n,$\\alpha$), second (n,$\\gamma$) and third (n,p)\n",
    "\n",
    "\n",
    "Pt194_CS = (Pt194_abundance*PtArrays[0][0], Pt194_abundance*PtArrays[0][1], Pt194_abundance*PtArrays[0][2])\n",
    "Pt195_CS = (Pt195_abundance*PtArrays[1][0], Pt195_abundance*PtArrays[1][1], Pt195_abundance*PtArrays[1][2])\n",
    "Pt196_CS = (Pt196_abundance*PtArrays[2][0], Pt196_abundance*PtArrays[2][1], Pt196_abundance*PtArrays[2][2])\n",
    "\n",
    "\n",
    "PtReactionNameIsotopes = (r'$^{194}Pt(n,\\alpha)^{191}Os$', r'$^{194}Pt(n,\\gamma)^{195}Pt$', r'$^{194}Pt(n,p)^{194}Ir$', r'$^{195}Pt(n,\\alpha)^{192}Os$', r'$^{195}Pt(n,\\gamma)^{196}Pt$', r'$^{195}Pt(n,p)^{195}Ir$',\n",
    "                  r'$^{196}Pt(n,\\alpha)^{193}Os$', r'$^{196}Pt(n,\\gamma)^{197}Pt$', r'$^{196}Pt(n,p)^{196}Ir$')\n",
    "\n",
    "PtReactionName = (r'$^{194}Pt(n,\\alpha)^{191}Os$', r'$^{194}Pt(n,p)^{194}Ir$', r'$^{195}Pt(n,\\alpha)^{192}Os$', r'$^{195}Pt(n,p)^{195}Ir$',\n",
    "                  r'$^{196}Pt(n,\\alpha)^{193}Os$', r'$^{196}Pt(n,p)^{196}Ir$')\n",
    "\n",
    "Pt_isotopes_CS = (Pt194_CS, Pt195_CS, Pt196_CS)"
   ]
  },
  {
   "cell_type": "code",
   "execution_count": 1539,
   "metadata": {},
   "outputs": [
    {
     "data": {
      "image/png": "[encoded data removed]",
      "text/plain": [
       "<Figure size 640x480 with 1 Axes>"
      ]
     },
     "metadata": {},
     "output_type": "display_data"
    }
   ],
   "source": [
    "#plt.figure(figsize=(10,6), dpi=200)\n",
    "\n",
    "Pt194_CS_plot = (PtArrays[0][0], PtArrays[0][1], PtArrays[0][2])\n",
    "legend = ('(n, alpha)', '(n, gamma)', '(n,p)')\n",
    "for i in range(len(Pt194_CS_plot)):\n",
    "    plt.plot(Pt194_CS_plot[i][:,0], Pt194_CS_plot[i][:,1]*1e24, label = legend[i])\n",
    "\n",
    "\n",
    "\n",
    "plt.yscale(\"log\")\n",
    "plt.xscale(\"log\")\n",
    "plt.legend()\n",
    "plt.title(\"194Pt cross-section\")\n",
    "plt.xlabel('Neutron energy (eV)')\n",
    "plt.ylabel('Reaction cross-section (barns)')\n",
    "\n",
    "plt.show()"
   ]
  },
  {
   "cell_type": "markdown",
   "metadata": {},
   "source": [
    "### ITER parameters"
   ]
  },
  {
   "cell_type": "code",
   "execution_count": 1540,
   "metadata": {},
   "outputs": [],
   "source": [
    "first_wall_area = 6e6 #in cm^2\n",
    "thickness1 = 1 #in cm\n",
    "thickness2 = 1e-4 #in cm\n",
    "fpy = 788400 #9.125 days in seconds, a full power year\n",
    "fpy_full = fpy*20 #in seconds"
   ]
  },
  {
   "cell_type": "markdown",
   "metadata": {},
   "source": [
    "### Transmutation reaction rate\n",
    "\n",
    "To calculate the transmutation reaction rate one needs to know the number of nuclei per cm^3, the neutron flux and cross-section of the transmutation reaction, so that:\n",
    "\n",
    "$R[cm^{-3} s^{-1}] = N[cm^{-3}] \\times \\sigma[cm^2] \\times \\Phi[cm^{-2} s^{-1}]$\n",
    "\n",
    "And if one accounts for the thickness $\\delta$, surface area of the first wall $A_{FW}$ and full power year $t_{fpy}$. \n",
    "\n",
    "$N_R = N[cm^{-3}] \\times \\sigma[cm^2] \\times \\Phi[cm^{-2} s^{-1}] \\times A_{FW}[cm^2] \\times \\delta[cm] \\times t_{fpy}[s]$\n",
    "\n",
    "With this, multiplying by the total volume of the first wall layer, whether that'd be a coating or bulk, we obtain the number of reactions per second. Then, multiplying by the fpy in seconds, one can calculate the number of transmutation reactions per full power year. Assuming a wall made of 100% of the material of study, we can compare the number of new transmutated atoms with the number of original atoms and compare how many of the original atoms transmutated. There are two transmutation reaction values, the first being associated with total transmutation rate, including isotopes, the second and more important is the number of new atoms.\n",
    "\n",
    "Some important concepts that this code misses are:\n",
    "\n",
    "- No transportation code, assumes a constant flux at the wall based on the DT campaign at full power.\n",
    "- Assumes constant thickness of the wall throught its surface area.\n",
    "- Each neutron that penetrates the wall has always the same probability, the sum of each probabilty of each reaction along the thickness.\n",
    "- There's no dynamic calculations, this is, accounting for the new nuclei as they are formed.\n",
    "\n",
    "These first three parameters can overstimate the number of reactions. In general, the probability of the reaction (cross-section) is quite low, but multiplied by the high flux, it reaches significant values. The same neutron can only have one reaction (of the ones considered, since scattering is not included). Therefore, generally, this code overestimates the total transmutation rate that includes isotopes but is quite good for the estimation of the transmutation rate that changes the atomic number. The last parameter is harder to account for."
   ]
  },
  {
   "cell_type": "markdown",
   "metadata": {},
   "source": [
    "# Rhodium"
   ]
  },
  {
   "cell_type": "markdown",
   "metadata": {},
   "source": [
    "# Platinum"
   ]
  },
  {
   "cell_type": "markdown",
   "metadata": {},
   "source": [
    "## Differential equation approach\n",
    "\n",
    "One can calculate the rate the number of produced is\n",
    "\n",
    "$\\dfrac{dN_i(t)}{dt} = -(\\lambda_i + \\sigma_i \\Phi)N_i(t) + \\sum_j (\\lambda_{ij} + \\sigma_{ij} \\Phi)N_i(t)$\n",
    "\n",
    "$N_i(t)$ - Number of nuclei at time $t$\n",
    "\n",
    "$\\lambda_i$ - Decay rate of nuclide i.\n",
    "\n",
    "$\\sigma_i$ - Total cross-section of nuclear reaction for nuclide i.\n",
    "\n",
    "$\\lambda_{ij}$ - Decay rate from nuclide j to  i.\n",
    "\n",
    "$\\sigma_{ij}$ - Cross-section of nuclear reaction from nuclide j to i.\n",
    "\n",
    "$\\lambda = \\dfrac{ln2}{t_{1/2}}$\n"
   ]
  },
  {
   "cell_type": "code",
   "execution_count": 1541,
   "metadata": {},
   "outputs": [],
   "source": [
    "# Define the differential equation system with energy dependence\n",
    "def system_of_equations(N, t, lambdas, sigma_interp, lambdaij, sigmaij_interp, Phi_interp, nuclei_names):\n",
    "    dNdt = np.zeros_like(N)\n",
    "    num_nuclei = len(N)\n",
    "    \n",
    "    energy = Phi_interp.x  # Assume Phi_interp is an interpolation function for flux\n",
    "\n",
    "    for i in range(num_nuclei):\n",
    "        decay_term = - (lambdas[i] + np.sum(sigma_interp[i](energy) * Phi_interp(energy))) * N[i]\n",
    "        production_term = 0\n",
    "        \n",
    "        for j in range(num_nuclei):\n",
    "            sigma_ij_interp_func = sigmaij_interp[i][j]\n",
    "                    \n",
    "            # Check if the interpolation function is not zero\n",
    "            if not np.all(sigma_ij_interp_func(energy) == 0):\n",
    "                production_term += (lambdaij[i][j] + np.sum(sigma_ij_interp_func(energy) * Phi_interp(energy))) * N[j]\n",
    "                #print(np.sum(sigma_ij_interp_func(energy) * Phi_interp(energy)))\n",
    "            else:\n",
    "                production_term += lambdaij[i][j]*N[j]\n",
    "        \n",
    "        \n",
    "        #print(\"Decay term of {}:\".format(nuclei_names[i]),decay_term)\n",
    "        #print(\"Production term of {}:\".format(nuclei_names[i]),production_term)\n",
    "        #print()\n",
    "        dNdt[i] = decay_term + production_term\n",
    "\n",
    "    return dNdt\n",
    "\n",
    "def decay_rate_function(half_life):\n",
    "    #half-life in seconds\n",
    "    return np.log(2)/half_life"
   ]
  },
  {
   "cell_type": "code",
   "execution_count": 1542,
   "metadata": {},
   "outputs": [],
   "source": [
    "nuclei_names = ('Pt194', 'Pt195', 'Pt196', 'Pt197', 'Pt198', 'Pt199', 'Au197', 'Au199')\n",
    "\n",
    "N_target_Pt194 = Pt194_abundance*(rho_Pt * N_A)/Pt194_A\n",
    "N_target_Pt195 = Pt195_abundance*(rho_Pt * N_A)/Pt195_A\n",
    "N_target_Pt196 = Pt196_abundance*(rho_Pt * N_A)/Pt196_A\n",
    "N_target_Pt197 = 0\n",
    "N_target_Pt198 = Pt198_abundance*(rho_Pt * N_A)/Pt198_A\n",
    "N_target_Pt199 = 0\n",
    "N_target_Au197 = 0\n",
    "N_target_Au199 = 0\n",
    "\n",
    "decay_Pt197 = decay_rate_function(71609)\n",
    "decay_Pt199 = decay_rate_function(1848)"
   ]
  },
  {
   "cell_type": "code",
   "execution_count": 1543,
   "metadata": {},
   "outputs": [],
   "source": [
    "#Only cross-section values\n",
    "Pt194_n_gamma = PtArrays[0][1]\n",
    "Pt195_n_gamma = PtArrays[1][1]\n",
    "Pt196_n_gamma = PtArrays[2][1]\n",
    "Pt197_n_gamma = PtArrays[3][0]\n",
    "Pt198_n_gamma = PtArrays[4][1]"
   ]
  },
  {
   "cell_type": "code",
   "execution_count": 1544,
   "metadata": {},
   "outputs": [],
   "source": [
    "# Set initial conditions and parameters\n",
    "initial_conditions = np.array([N_target_Pt194, N_target_Pt195, N_target_Pt196, N_target_Pt197, \n",
    "                      N_target_Pt198, N_target_Pt199, N_target_Au197, N_target_Au199]) #number of nuclei in the start\n",
    "\n",
    "\n",
    "\n",
    "lambdas = [0, 0, 0, decay_Pt197,0, decay_Pt199, 0, 0]\n",
    "\n",
    "# Set up interpolation functions for cross-sections and flux\n",
    "#These are the decay terms, responsible for the decrease of the isotopes either through decay or by neutron capture\n",
    "energy_values_decay = [Pt194_n_gamma[:,0], Pt195_n_gamma[:,0], Pt196_n_gamma[:,0], Pt197_n_gamma[:,0], Pt198_n_gamma[:,0], np.zeros(5), np.zeros(5), np.zeros(5)] # Energy values given by the flux interpolation function\n",
    "sigma_values_decay = [Pt194_n_gamma[:,1], Pt195_n_gamma[:,1], Pt196_n_gamma[:,1], Pt197_n_gamma[:,1], Pt198_n_gamma[:,1], np.zeros(5), np.zeros(5), np.zeros(5)]  # Specify your cross-section values\n",
    "sigma_interp = [interp1d(energy, sigma, kind='linear', fill_value= 0.0, bounds_error=False) for energy, sigma in zip(energy_values_decay, sigma_values_decay)]\n"
   ]
  },
  {
   "cell_type": "code",
   "execution_count": 1545,
   "metadata": {},
   "outputs": [],
   "source": [
    "#THESE ARE THE PRODUCTION TERMS\n",
    "\n",
    "#falta preencher os valores, isto não está bem!\n",
    "decay_chain = [\n",
    "    [0, 0, 0, 0, 0, 0, 0, 0],  #Pt194\n",
    "    [1, 0, 0, 0, 0, 0, 0, 0],  #Pt195\n",
    "    [0, 1, 0, 0, 0, 0, 0, 0],  #Pt196\n",
    "    [0, 0, 1, 0, 0, 0, 0, 0],  #Pt197\n",
    "    [0, 0, 0, 1, 0, 0, 0, 0],  #Pt198\n",
    "    [0, 0, 0, 0, 1, 0, 0, 0],  #Pt199\n",
    "    [0, 0, 0, 0, 0, 0, 0, 0],  #Au197\n",
    "    [0, 0, 0, 0, 0, 0, 0, 0]   #Au199\n",
    "    ] #this has the true or false statements for if nuclide i is produced by j\n",
    "\n",
    "sigmaij_interp = [\n",
    "    [0, 0, 0, 0, 0, 0, 0, 0],  #Pt194\n",
    "    [0, 0, 0, 0, 0, 0, 0, 0],  #Pt195\n",
    "    [0, 0, 0, 0, 0, 0, 0, 0],  #Pt196\n",
    "    [0, 0, 0, 0, 0, 0, 0, 0],  #Pt197\n",
    "    [0, 0, 0, 0, 0, 0, 0, 0],  #Pt198\n",
    "    [0, 0, 0, 0, 0, 0, 0, 0],  #Pt199\n",
    "    [0, 0, 0, 0, 0, 0, 0, 0],  #Au197\n",
    "    [0, 0, 0, 0, 0, 0, 0, 0]   #Au199\n",
    "    ]\n",
    "\n",
    "lambdaij = [\n",
    "    [0, 0, 0, 0, 0, 0, 0, 0],  # N_target_Pt194\n",
    "    [0, 0, 0, 0, 0, 0, 0, 0],  # N_target_Pt195\n",
    "    [0, 0, 0, 0, 0, 0, 0, 0],  # N_target_Pt196\n",
    "    [0, 0, 0, 0, 0, 0, 0, 0],  # N_target_Pt197\n",
    "    [0, 0, 0, 0, 0, 0, 0, 0],  # N_target_Pt198\n",
    "    [0, 0, 0, 0, 0, 0, 0, 0],  # N_target_Pt199\n",
    "    [0, 0, 0, decay_Pt197, 0, 0, 0, 0],   # N_target_Au197\n",
    "    [0, 0, 0, 0, 0, decay_Pt199, 0, 0]   # N_target_Au199\n",
    "    ]\n",
    "\n",
    "\n",
    "energy_range = np.linspace(0, 1e10, 10)\n",
    "zero_values = np.zeros_like(energy_range)\n",
    "zero_interp_function = interp1d(energy_range, zero_values, kind='linear', fill_value= 0.0, bounds_error=False)\n",
    "\n",
    "energy_values_production = [Pt194_n_gamma[:,0], Pt195_n_gamma[:,0], Pt196_n_gamma[:,0], Pt197_n_gamma[:,0], Pt198_n_gamma[:,0], Pt198_n_gamma[:,0], np.zeros(5), np.zeros(5)]\n",
    "sigma_values_production = [Pt194_n_gamma[:,1], Pt195_n_gamma[:,1], Pt196_n_gamma[:,1], Pt197_n_gamma[:,1], Pt198_n_gamma[:,1], Pt198_n_gamma[:,1], np.zeros(5), np.zeros(5)]  \n",
    "\n",
    "for i in range(len(decay_chain)):\n",
    "    for j in range(len(decay_chain)):\n",
    "        if decay_chain[i][j] == 0:\n",
    "            sigmaij_interp[i][j] = zero_interp_function\n",
    "        else:\n",
    "            energy = energy_values_production[i]\n",
    "            sigma = sigma_values_production[i]\n",
    "            sigmaij_interp[i][j] = interp1d(energy, sigma, kind='linear', fill_value= 0.0, bounds_error=False)"
   ]
  },
  {
   "cell_type": "code",
   "execution_count": 1546,
   "metadata": {},
   "outputs": [],
   "source": [
    "# Set the time points at which you want to solve the equations\n",
    "t1 = np.linspace(0, fpy, 10)\n",
    "t2 = np.linspace(0, fpy_full, 10)\n",
    "# Solve the differential equations\n",
    "solution_fpy = odeint(system_of_equations, initial_conditions, t1, args=(lambdas, sigma_interp, lambdaij, sigmaij_interp, neutron_flux_function, nuclei_names))\n",
    "solution_fpy_full = odeint(system_of_equations, initial_conditions, t2, args=(lambdas, sigma_interp, lambdaij, sigmaij_interp, neutron_flux_function, nuclei_names))"
   ]
  },
  {
   "cell_type": "code",
   "execution_count": 1547,
   "metadata": {},
   "outputs": [],
   "source": [
    "init_solution_fpy = np.array(solution_fpy[0])\n",
    "final_solution_fpy = np.array(solution_fpy[-1])\n",
    "\n",
    "init_solution_fpy_full = np.array(solution_fpy_full[0])\n",
    "final_solution_fpy_full = np.array(solution_fpy_full[-1])"
   ]
  },
  {
   "cell_type": "code",
   "execution_count": 1548,
   "metadata": {},
   "outputs": [
    {
     "name": "stdout",
     "output_type": "stream",
     "text": [
      "Pt194 decreased -0.002230% to a value of 33.314740%\n",
      "Pt195 decreased -0.000391% to a value of 34.072071%\n",
      "Pt196 increased 0.000654% to a value of 25.298456%\n",
      "Pt197 increased 100.000000% to a value of 0.000444%\n",
      "Pt198 decreased -0.016777% to a value of 7.310116%\n",
      "Pt199 increased 100.000000% to a value of 0.000004%\n",
      "Au197 increased 100.000000% to a value of 0.002946%\n",
      "Au199 increased 100.000000% to a value of 0.001222%\n"
     ]
    }
   ],
   "source": [
    "total_nuclei = np.sum(final_solution_fpy)\n",
    "change = final_solution_fpy*100/total_nuclei\n",
    "variation_fpy = (final_solution_fpy-initial_conditions)*100/final_solution_fpy\n",
    "for name,change,variation in zip(nuclei_names, change, variation_fpy):\n",
    "    if variation > 0:\n",
    "        print('{} increased {v:.6f}% to a value of {c:.6f}%'.format(name, v=variation, c=change))\n",
    "    else:\n",
    "        print('{} decreased {v:.6f}% to a value of {c:.6f}%'.format(name,v=variation, c=change))"
   ]
  },
  {
   "cell_type": "code",
   "execution_count": 1549,
   "metadata": {},
   "outputs": [
    {
     "name": "stdout",
     "output_type": "stream",
     "text": [
      "Pt194 decreased -0.044611% to a value of 33.283686%\n",
      "Pt195 decreased -0.007886% to a value of 34.052186%\n",
      "Pt196 increased 0.013079% to a value of 25.288728%\n",
      "Pt197 increased 100.000000% to a value of 0.000444%\n",
      "Pt198 decreased -0.336082% to a value of 7.283145%\n",
      "Pt199 increased 100.000000% to a value of 0.000004%\n",
      "Au197 increased 100.000000% to a value of 0.067332%\n",
      "Au199 increased 100.000000% to a value of 0.024475%\n"
     ]
    }
   ],
   "source": [
    "total_nuclei = np.sum(final_solution_fpy_full)\n",
    "change = final_solution_fpy_full*100/total_nuclei\n",
    "variation_fpy_full = (final_solution_fpy_full-initial_conditions)*100/final_solution_fpy_full\n",
    "\n",
    "\n",
    "for name,change,variation in zip(nuclei_names, change, variation_fpy_full):\n",
    "    if variation > 0:\n",
    "        print('{} increased {v:.6f}% to a value of {c:.6f}%'.format(name, v=variation, c=change))\n",
    "    else:\n",
    "        print('{} decreased {v:.6f}% to a value of {c:.6f}%'.format(name,v=variation, c=change))"
   ]
  },
  {
   "cell_type": "code",
   "execution_count": 1550,
   "metadata": {},
   "outputs": [
    {
     "data": {
      "image/png": "[encoded data removed]",
      "text/plain": [
       "<Figure size 640x480 with 1 Axes>"
      ]
     },
     "metadata": {},
     "output_type": "display_data"
    }
   ],
   "source": [
    "# Plot the results\n",
    "for i in range(len(initial_conditions)):\n",
    "    plt.plot(t, solution[:, i], label=f'N_{i+1}(t)')\n",
    "\n",
    "plt.xlabel('Time')\n",
    "plt.ylabel('Number of Nuclei')\n",
    "plt.yscale('log')\n",
    "plt.xscale('log')\n",
    "plt.legend()\n",
    "plt.show()"
   ]
  }
 ],
 "metadata": {
  "kernelspec": {
   "display_name": "base",
   "language": "python",
   "name": "python3"
  },
  "language_info": {
   "codemirror_mode": {
    "name": "ipython",
    "version": 3
   },
   "file_extension": ".py",
   "mimetype": "text/x-python",
   "name": "python",
   "nbconvert_exporter": "python",
   "pygments_lexer": "ipython3",
   "version": "3.11.4"
  }
 },
 "nbformat": 4,
 "nbformat_minor": 2
}
